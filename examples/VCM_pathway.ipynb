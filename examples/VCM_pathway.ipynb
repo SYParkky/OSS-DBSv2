{
 "cells": [
  {
   "cell_type": "code",
   "execution_count": 1,
   "id": "a0926f5a",
   "metadata": {},
   "outputs": [],
   "source": [
    "import logging\n",
    "\n",
    "from netgen.webgui import Draw\n",
    "from ngsolve import TaskManager\n",
    "from ngsolve.webgui import Draw as DrawNG\n",
    "\n",
    "import ossdbs\n",
    "from ossdbs.utils.settings import Settings\n",
    "\n",
    "\n",
    "ossdbs.set_logger(logging.INFO)"
   ]
  },
  {
   "cell_type": "code",
   "execution_count": 2,
   "id": "df50986a",
   "metadata": {},
   "outputs": [],
   "source": [
    "settings = {\n",
    "    \"BrainRegion\": {\n",
    "        \"Center\": {\"x[mm]\": 13.5035, \"y[mm]\": -9.49908, \"z[mm]\": -9.87216},\n",
    "        \"Dimension\": {\"x[mm]\": 60, \"y[mm]\": 60, \"z[mm]\": 80},\n",
    "        \"Shape\": \"Ellipsoid\"\n",
    "    },\n",
    "    \"Electrodes\": [\n",
    "        {\n",
    "            \"Name\": \"BostonScientificVercise\",\n",
    "            \"CustomParameters\": {\n",
    "                \"tip_length\": 1.1,\n",
    "                \"contact_length\": 1.5,\n",
    "                \"contact_spacing\": 0.5,\n",
    "                \"lead_diameter\": 1.3,\n",
    "                \"total_length\": 450.0,\n",
    "            },\n",
    "            \"Rotation[Degrees]\":  0.15,\n",
    "            \"Direction\": {\"x[mm]\": 0.24, \"y[mm]\": 0.17, \"z[mm]\": 0.95},\n",
    "            \"TipPosition\": {\"x[mm]\": 12.9, \"y[mm]\": -9.90, \"z[mm]\": -12.0},\n",
    "            \"Contacts\": [\n",
    "                       {\n",
    "                    \"Contact_ID\": 1,\n",
    "                    \"Active\": True,\n",
    "                    #\"Current[A]\": 0.0,\n",
    "                    \"Voltage[V]\": 0.0,\n",
    "                    \"Floating\": False,\n",
    "                    \"SurfaceImpedance[Ohmm]\": {\"real\": 0.0, \"imag\": 0.0}\n",
    "                },\n",
    "                {\n",
    "                    \"Contact_ID\": 2,\n",
    "                    \"Active\": True,\n",
    "                    #\"Current[A]\": 0.012,\n",
    "                    \"Voltage[V]\": 2.0,\n",
    "                    \"Floating\": False,\n",
    "                    \"SurfaceImpedance[Ohmm]\": {\"real\": 0.0, \"imag\": 0.0}\n",
    "                },\n",
    "                {\n",
    "                    \"Contact_ID\": 3,\n",
    "                    \"Active\": False,\n",
    "                    #\"Current[A]\": -0.004,\n",
    "                    \"Voltage[V]\":0.0,\n",
    "                    \"Floating\": True,\n",
    "                    \"SurfaceImpedance[Ohmm]\": {\"real\": 0.0, \"imag\": 0.0}\n",
    "                },\n",
    "                {\n",
    "                    \"Contact_ID\": 4,\n",
    "                    \"Active\": False,\n",
    "                    #\"Current[A]\": -0.008,\n",
    "                    \"Voltage[V]\": 0.0,\n",
    "                    \"Floating\": True,\n",
    "                    \"SurfaceImpedance[Ohmm]\": {\"real\": 0.0, \"imag\": 0.0}\n",
    "                }\n",
    "            \n",
    "        \n",
    "             \n",
    "            ],\n",
    "            \"EncapsulationLayer\": {\n",
    "                \"Thickness[mm]\": 0.1,\n",
    "                \"Material\": \"Gray matter\",\n",
    "                \"DielectricModel\": \"ColeCole4\",\n",
    "                \"MaxMeshSize\": 0.5,\n",
    "            },\n",
    "        }\n",
    "    ],\n",
    "    \"MaterialDistribution\": {\n",
    "        \"MRIPath\": \"/Users/shukladas/OSS-DBSv2/examples/ConvergenceStudy/PAM/segmask.nii.gz\",\n",
    "        \"MRIMapping\": {\"Unknown\": 0,\"Gray matter\":1, \"White matter\": 2, \"CSF\": 3,\"Blood\": 4,},\n",
    "        \"DiffusionTensorActive\": False,\n",
    "        \"DTIPath\": \"\",\n",
    "    },\n",
    "        \n",
    "   \"DielectricModel\": {\n",
    "       \"Type\": \"ColeCole4\",\n",
    "    \"CustomParameters\": None\n",
    "       \n",
    "   },\n",
    "    \"Mesh\": {\n",
    "        \"LoadMesh\": False,\n",
    "        \"MeshElementOrder\": 2,\n",
    "        \"MeshingHypothesis\": {\"Type\": \"Default\", \"MaxMeshSize\": 4.0},\n",
    "        \"MeshSize\": {\"Edges\": {}, \"Faces\": {}, \"Volumes\": {}},\n",
    "        \"SaveMesh\": True,\n",
    "        \"AdaptiveMeshRefinement\": {\n",
    "            \"Active\": True,\n",
    "            \"MaxIterations\": 5,\n",
    "            \"ErrorTolerance\": 0.1\n",
    "        },\n",
    "    },\n",
    "    \"FEMOrder\": 2,\n",
    "    \"EQSMode\": True,\n",
    "    \"StimulationSignal\": {\n",
    "        \"Type\": \"Rectangle\",\n",
    "        \"Frequency[Hz]\": 130.0,\n",
    "        \"PulseWidth[us]\": 30.0,\n",
    "        \"PulseTopWidth[us]\": 0.0,\n",
    "        \"CounterPulseWidth[us]\": 0.0,\n",
    "        \"InterPulseWidth[us]\": 0.0,\n",
    "        \"SpectrumMode\": \"OctaveBand\",\n",
    "        \"CounterAmplitude\": 1.0,\n",
    "        \"CutoffFrequency\": 250000.0,\n",
    "        \"CurrentControlled\": False\n",
    "    },\n",
    "    \"Solver\": {\n",
    "        \"Type\": \"CG\",\n",
    "        \"Preconditioner\": \"local\",\n",
    "        \"PreconditionerKwargs\": {},\n",
    "        \"MaximumSteps\": 5000,\n",
    "        \"Precision\": 1e-10,\n",
    "    },\n",
    "    \n",
    "    \"PointModel\": {\n",
    "        \"Pathway\": {\n",
    "            # Pathway gives a prepared neuron array, so when you have this, no need for lattice/voxel lattice\n",
    "            \"Active\": True, \n",
    "            \"FileName\": \"/Users/shukladas/OSS-DBSv2/examples/ConvergenceStudy/PAM/Allocated_axons.h5\",\n",
    "            \"ExportField\": True},\n",
    "        \"Lattice\": {\n",
    "            # Even distribution of neuron(axon) points in space\n",
    "            \"Active\": False,\n",
    "            \"Center\": {\"x[mm]\": 22.95, \"y[mm]\": 11.47, \"z[mm]\": 8.1},\n",
    "            \"Shape\": {\"x\": 10, \"y\": 10, \"z\": 10},\n",
    "            \"Direction\": {\"x[mm]\": 0, \"y[mm]\": 0, \"z[mm]\": 1},\n",
    "            \"PointDistance[mm]\": 0.1,\n",
    "        },\n",
    "        \"VoxelLattice\": {\n",
    "            # Biologiclally realistic distribution of neuron(axon) points following anatomy\n",
    "            \"Active\": False,\n",
    "            \"Shape\": {\"x\": 11, \"y\": 11, \"z\": 11} # Creates 9*9*9 = 729 axon points,\n",
    "        },\n",
    "    },\n",
    "    # In the json file, we mention the neuron model, number of Nodes of Raniver, and axon diameter!\n",
    "    \"PathwayFile\": \"/Users/shukladas/OSS-DBSv2/examples/ConvergenceStudy/PAM/Allocated_axons_parameters.json\",\n",
    "    \"OutputPath\":\"/Users/shukladas/OSS-DBSv2/Results/\",\n",
    "    \"ComputeImpedance\": True,\n",
    "    \"ActivationThresholdVTA[V-per-m]\": 200,\n",
    "    \"ExportVTK\": True,\n",
    "    \"ExportElectrode\": True,\n",
    "    \"OutOfCore\": False,\n",
    "    \"CalcAxonActivation\": True,\n",
    "}\n"
   ]
  },
  {
   "cell_type": "code",
   "execution_count": 3,
   "id": "649a8bd5",
   "metadata": {},
   "outputs": [
    {
     "name": "stderr",
     "output_type": "stream",
     "text": [
      "INFO:ossdbs.api:Load MRI image\n",
      "INFO:ossdbs.api:Generate electrode geometries\n",
      "INFO:ossdbs.electrodes.electrode_model_template:Export electrode as Netgen and VTK file\n"
     ]
    },
    {
     "data": {
      "application/vnd.jupyter.widget-view+json": {
       "model_id": "a73a52884d7b46b3ade39254a5822bbd",
       "version_major": 2,
       "version_minor": 0
      },
      "text/plain": [
       "WebGuiWidget(layout=Layout(height='50vh', width='100%'), value={'ngsolve_version': 'Netgen x.x', 'mesh_dim': 3…"
      ]
     },
     "metadata": {},
     "output_type": "display_data"
    },
    {
     "data": {
      "text/plain": [
       "BaseWebGuiScene"
      ]
     },
     "execution_count": 3,
     "metadata": {},
     "output_type": "execute_result"
    }
   ],
   "source": [
    "settings = Settings(settings).complete_settings()\n",
    "mri_image, dti_image = ossdbs.load_images(settings)\n",
    "electrodes = ossdbs.generate_electrodes(settings)\n",
    "Draw(electrodes[0].geometry)"
   ]
  },
  {
   "cell_type": "code",
   "execution_count": 4,
   "id": "8ac16ed0",
   "metadata": {},
   "outputs": [],
   "source": [
    "region_parameters = settings[\"BrainRegion\"]\n",
    "brain_region = ossdbs.create_bounding_box(settings[\"BrainRegion\"])\n",
    "shape = settings[\"BrainRegion\"][\"Shape\"]\n",
    "\n",
    "brain = ossdbs.BrainGeometry(shape, brain_region)"
   ]
  },
  {
   "cell_type": "code",
   "execution_count": 5,
   "id": "170e1a41",
   "metadata": {},
   "outputs": [
    {
     "name": "stderr",
     "output_type": "stream",
     "text": [
      "INFO:ossdbs.electrodes.electrode_model_template:Boundary names updated\n"
     ]
    },
    {
     "data": {
      "application/vnd.jupyter.widget-view+json": {
       "model_id": "c146c5b4c3ae4b9ba61f8f46d31c443f",
       "version_major": 2,
       "version_minor": 0
      },
      "text/plain": [
       "WebGuiWidget(layout=Layout(height='50vh', width='100%'), value={'ngsolve_version': 'Netgen x.x', 'mesh_dim': 3…"
      ]
     },
     "metadata": {},
     "output_type": "display_data"
    },
    {
     "data": {
      "text/plain": [
       "BaseWebGuiScene"
      ]
     },
     "execution_count": 5,
     "metadata": {},
     "output_type": "execute_result"
    }
   ],
   "source": [
    "geometry = ossdbs.ModelGeometry(brain, electrodes)\n",
    "Draw(geometry.geometry.shape)"
   ]
  },
  {
   "cell_type": "code",
   "execution_count": 6,
   "id": "30fe8ada",
   "metadata": {},
   "outputs": [
    {
     "name": "stderr",
     "output_type": "stream",
     "text": [
      "INFO:ossdbs.api:Generate electrode geometries\n",
      "INFO:ossdbs.electrodes.electrode_model_template:Export electrode as Netgen and VTK file\n",
      "INFO:ossdbs.electrodes.electrode_model_template:Boundary names updated\n",
      "INFO:ossdbs.api:Set values on contacts and encapsulation layers\n",
      "INFO:ossdbs.api:Updating encapsulation layer properties\n"
     ]
    }
   ],
   "source": [
    "mesh = ossdbs.generate_mesh(settings)"
   ]
  },
  {
   "cell_type": "code",
   "execution_count": 7,
   "id": "c8455ac3",
   "metadata": {
    "scrolled": false
   },
   "outputs": [
    {
     "data": {
      "application/vnd.jupyter.widget-view+json": {
       "model_id": "28cdca24aba74fb5a8f1973d191c8631",
       "version_major": 2,
       "version_minor": 0
      },
      "text/plain": [
       "WebGuiWidget(layout=Layout(height='50vh', width='100%'), value={'gui_settings': {}, 'ngsolve_version': '6.2.25…"
      ]
     },
     "metadata": {},
     "output_type": "display_data"
    },
    {
     "data": {
      "text/plain": [
       "BaseWebGuiScene"
      ]
     },
     "execution_count": 7,
     "metadata": {},
     "output_type": "execute_result"
    }
   ],
   "source": [
    "Draw(mesh.ngsolvemesh)"
   ]
  },
  {
   "cell_type": "code",
   "execution_count": 8,
   "id": "d054a79b",
   "metadata": {},
   "outputs": [
    {
     "name": "stderr",
     "output_type": "stream",
     "text": [
      "INFO:ossdbs.api:Set values on contacts and encapsulation layers\n",
      "INFO:ossdbs.api:Updating encapsulation layer properties\n",
      "INFO:ossdbs.api:Import neuron geometries stored in /Users/shukladas/OSS-DBSv2/examples/ConvergenceStudy/PAM/Allocated_axons.h5\n",
      "INFO:ossdbs.api:Prepare dielectric model\n",
      "INFO:ossdbs.api:Preparing solver\n"
     ]
    }
   ],
   "source": [
    "ossdbs.set_contact_and_encapsulation_layer_properties(settings, geometry)\n",
    "ossdbs.generate_point_models(settings)\n",
    "\n",
    "dielectric_model = ossdbs.prepare_dielectric_properties(settings)\n",
    "\n",
    "materials = settings[\"MaterialDistribution\"][\"MRIMapping\"]\n",
    "conductivity = ossdbs.ConductivityCF(\n",
    "    mri_image,\n",
    "    brain_region,\n",
    "    dielectric_model,\n",
    "    materials,\n",
    "    geometry.encapsulation_layers,\n",
    "    complex_data=settings[\"EQSMode\"],\n",
    ")\n",
    "\n",
    "solver = ossdbs.prepare_solver(settings)\n",
    "\n",
    "frequency_domain_signal = ossdbs.prepare_stimulation_signal(settings)"
   ]
  },
  {
   "cell_type": "code",
   "execution_count": 9,
   "id": "8ff2d20f",
   "metadata": {},
   "outputs": [
    {
     "name": "stderr",
     "output_type": "stream",
     "text": [
      "INFO:ossdbs.api:Generate volume conductor model\n",
      "INFO:ossdbs.api:Output path set to: /Users/shukladas/OSS-DBSv2/Results/\n",
      "INFO:ossdbs.api:Run volume conductor model\n",
      "INFO:ossdbs.api:Will compute impedance at each frequency\n",
      "INFO:ossdbs.api:Will export solution to VTK\n",
      "INFO:ossdbs.api:Import neuron geometries stored in /Users/shukladas/OSS-DBSv2/examples/ConvergenceStudy/PAM/Allocated_axons.h5\n",
      "INFO:ossdbs.fem.volume_conductor.volume_conductor_model:Set export frequency to 4160.0\n",
      "INFO:ossdbs.fem.volume_conductor.volume_conductor_model:Number of elements before material refinement:78196\n",
      "INFO:ossdbs.fem.volume_conductor.volume_conductor_model:Number of elements after material refinement:78196\n",
      "INFO:ossdbs.fem.volume_conductor.volume_conductor_model:Computing at frequency: 0.0\n",
      "INFO:ossdbs.fem.volume_conductor.volume_conductor_model:Number of elements before refinement:78196\n",
      "INFO:ossdbs.fem.volume_conductor.volume_conductor_model:Adaptive refinement step 1, error 0.361%.\n",
      "INFO:ossdbs.fem.volume_conductor.volume_conductor_model:Adaptive refinement step 2, error 0.558%.\n",
      "INFO:ossdbs.fem.volume_conductor.volume_conductor_model:Adaptive refinement step 3, error 0.488%.\n",
      "INFO:ossdbs.fem.volume_conductor.volume_conductor_model:Adaptive refinement step 4, error 0.042%.\n",
      "INFO:ossdbs.fem.volume_conductor.volume_conductor_model:Number of elements after refinement:98363\n",
      "INFO:ossdbs.fem.volume_conductor.volume_conductor_model:Adaptive mesh refinement converged after 4 refinement steps with an error in the impedance of 0.042%\n",
      "INFO:ossdbs.fem.volume_conductor.volume_conductor_model:Copy solution to point models\n",
      "INFO:ossdbs.point_analysis.pathway:Total axons in BA6: 300\n",
      "INFO:ossdbs.point_analysis.pathway:Outside the domain: 36\n",
      "INFO:ossdbs.point_analysis.pathway:Total axons in BA8: 300\n",
      "INFO:ossdbs.point_analysis.pathway:Outside the domain: 28\n",
      "INFO:ossdbs.point_analysis.pathway:Total axons in DRTT_v1: 43\n",
      "INFO:ossdbs.point_analysis.pathway:Outside the domain: 0\n",
      "INFO:ossdbs.point_analysis.pathway:Marked axons inside CSF and encapsulation layer\n",
      "INFO:ossdbs.point_analysis.pathway:Axons finally seeded: 579 / 643\n",
      "INFO:ossdbs.fem.volume_conductor.volume_conductor_model:Computing at frequency: 130.0\n",
      "INFO:ossdbs.fem.volume_conductor.volume_conductor_model:Copy solution to point models\n",
      "INFO:ossdbs.fem.volume_conductor.volume_conductor_model:Computing at frequency: 260.0\n",
      "INFO:ossdbs.fem.volume_conductor.volume_conductor_model:Copy solution to point models\n",
      "INFO:ossdbs.fem.volume_conductor.volume_conductor_model:Computing at frequency: 520.0\n",
      "INFO:ossdbs.fem.volume_conductor.volume_conductor_model:Copy solution to point models\n",
      "INFO:ossdbs.fem.volume_conductor.volume_conductor_model:Computing at frequency: 1040.0\n",
      "INFO:ossdbs.fem.volume_conductor.volume_conductor_model:Copy solution to point models\n",
      "INFO:ossdbs.fem.volume_conductor.volume_conductor_model:Computing at frequency: 2080.0\n",
      "INFO:ossdbs.fem.volume_conductor.volume_conductor_model:Copy solution to point models\n",
      "INFO:ossdbs.fem.volume_conductor.volume_conductor_model:Computing at frequency: 4160.0\n",
      "INFO:ossdbs.fem.volume_conductor.volume_conductor_model:Copy solution to point models\n",
      "INFO:ossdbs.fem.volume_conductor.volume_conductor_model:Exporting at 4160.0\n",
      "INFO:ossdbs.fem.volume_conductor.volume_conductor_model:Exporting results at 4160.0 Hz.\n",
      "INFO:ossdbs.fem.volume_conductor.volume_conductor_model:Exporting for point model type <class 'ossdbs.point_analysis.pathway.Pathway'>.\n",
      "INFO:ossdbs.fem.volume_conductor.volume_conductor_model:Exporting electric field at frequency 4160.0Hz.\n",
      "INFO:ossdbs.fem.volume_conductor.volume_conductor_model:Computing at frequency: 8320.0\n",
      "INFO:ossdbs.fem.volume_conductor.volume_conductor_model:Copy solution to point models\n",
      "INFO:ossdbs.fem.volume_conductor.volume_conductor_model:Computing at frequency: 16640.0\n",
      "INFO:ossdbs.fem.volume_conductor.volume_conductor_model:Skipped computation at 16640.0 Hz\n",
      "INFO:ossdbs.fem.volume_conductor.volume_conductor_model:Copy solution to point models\n",
      "INFO:ossdbs.fem.volume_conductor.volume_conductor_model:Computing at frequency: 33280.0\n",
      "INFO:ossdbs.fem.volume_conductor.volume_conductor_model:Skipped computation at 33280.0 Hz\n",
      "INFO:ossdbs.fem.volume_conductor.volume_conductor_model:Copy solution to point models\n",
      "INFO:ossdbs.fem.volume_conductor.volume_conductor_model:Computing at frequency: 66560.0\n",
      "INFO:ossdbs.fem.volume_conductor.volume_conductor_model:Skipped computation at 66560.0 Hz\n",
      "INFO:ossdbs.fem.volume_conductor.volume_conductor_model:Copy solution to point models\n",
      "INFO:ossdbs.fem.volume_conductor.volume_conductor_model:Computing at frequency: 133120.0\n",
      "INFO:ossdbs.fem.volume_conductor.volume_conductor_model:Skipped computation at 133120.0 Hz\n",
      "INFO:ossdbs.fem.volume_conductor.volume_conductor_model:Copy solution to point models\n",
      "INFO:ossdbs.fem.volume_conductor.volume_conductor_model:Saving impedance\n",
      "INFO:ossdbs.fem.volume_conductor.volume_conductor_model:Launching reconstruction of time domain\n",
      "INFO:ossdbs.fem.volume_conductor.volume_conductor_model:Reconstructing time-domain signal.\n",
      "INFO:ossdbs.point_analysis.point_model:Create time results\n",
      "INFO:ossdbs.point_analysis.point_model:Created time result and saved to file\n"
     ]
    }
   ],
   "source": [
    "with TaskManager():\n",
    "    volume_conductor = ossdbs.prepare_volume_conductor_model(\n",
    "        settings, geometry, conductivity, solver\n",
    "    )\n",
    "    ossdbs.run_volume_conductor_model(\n",
    "        settings, volume_conductor, frequency_domain_signal\n",
    "    )"
   ]
  },
  {
   "cell_type": "code",
   "execution_count": 10,
   "id": "fa49fdfb",
   "metadata": {},
   "outputs": [
    {
     "data": {
      "application/vnd.jupyter.widget-view+json": {
       "model_id": "7171f5965bee41e3954883a249038bcd",
       "version_major": 2,
       "version_minor": 0
      },
      "text/plain": [
       "WebGuiWidget(layout=Layout(height='50vh', width='100%'), value={'gui_settings': {'Complex': {'phase': 0.0, 'sp…"
      ]
     },
     "metadata": {},
     "output_type": "display_data"
    },
    {
     "data": {
      "text/plain": [
       "BaseWebGuiScene"
      ]
     },
     "execution_count": 10,
     "metadata": {},
     "output_type": "execute_result"
    }
   ],
   "source": [
    "DrawNG(volume_conductor.potential)"
   ]
  },
  {
   "cell_type": "code",
   "execution_count": null,
   "id": "af9240d2",
   "metadata": {},
   "outputs": [],
   "source": []
  },
  {
   "cell_type": "code",
   "execution_count": null,
   "id": "ffed5541",
   "metadata": {},
   "outputs": [],
   "source": []
  }
 ],
 "metadata": {
  "kernelspec": {
   "display_name": "Python 3 (ipykernel)",
   "language": "python",
   "name": "python3"
  },
  "language_info": {
   "codemirror_mode": {
    "name": "ipython",
    "version": 3
   },
   "file_extension": ".py",
   "mimetype": "text/x-python",
   "name": "python",
   "nbconvert_exporter": "python",
   "pygments_lexer": "ipython3",
   "version": "3.11.0"
  }
 },
 "nbformat": 4,
 "nbformat_minor": 5
}
